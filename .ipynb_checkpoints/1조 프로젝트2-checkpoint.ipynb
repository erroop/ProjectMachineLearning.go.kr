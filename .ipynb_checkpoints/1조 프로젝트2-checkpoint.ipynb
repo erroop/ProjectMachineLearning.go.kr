{
 "cells": [
  {
   "cell_type": "code",
   "execution_count": 5,
   "id": "fe7139ca",
   "metadata": {},
   "outputs": [],
   "source": [
    "import pandas as pd\n",
    "import numpy as np\n",
    "import matplotlib.pyplot as plt\n",
    "import seaborn as sns"
   ]
  },
  {
   "cell_type": "code",
   "execution_count": 6,
   "id": "0978c817",
   "metadata": {},
   "outputs": [
    {
     "data": {
      "text/html": [
       "<div>\n",
       "<style scoped>\n",
       "    .dataframe tbody tr th:only-of-type {\n",
       "        vertical-align: middle;\n",
       "    }\n",
       "\n",
       "    .dataframe tbody tr th {\n",
       "        vertical-align: top;\n",
       "    }\n",
       "\n",
       "    .dataframe thead th {\n",
       "        text-align: right;\n",
       "    }\n",
       "</style>\n",
       "<table border=\"1\" class=\"dataframe\">\n",
       "  <thead>\n",
       "    <tr style=\"text-align: right;\">\n",
       "      <th></th>\n",
       "      <th>Unnamed: 0</th>\n",
       "      <th>월</th>\n",
       "      <th>주야</th>\n",
       "      <th>요일</th>\n",
       "      <th>사망자수</th>\n",
       "      <th>중상자수</th>\n",
       "      <th>사고유형</th>\n",
       "      <th>사고유형_세부</th>\n",
       "      <th>가해자법규위반</th>\n",
       "      <th>도로형태</th>\n",
       "      <th>...</th>\n",
       "      <th>사망_중상자비율</th>\n",
       "      <th>부상자수</th>\n",
       "      <th>평균기온(°C)</th>\n",
       "      <th>최저기온(°C)</th>\n",
       "      <th>최고기온(°C)</th>\n",
       "      <th>일강수량(mm)</th>\n",
       "      <th>최대 풍속(m/s)</th>\n",
       "      <th>평균 풍속(m/s)</th>\n",
       "      <th>최소 상대습도(%)</th>\n",
       "      <th>평균 상대습도(%)</th>\n",
       "    </tr>\n",
       "  </thead>\n",
       "  <tbody>\n",
       "    <tr>\n",
       "      <th>0</th>\n",
       "      <td>0</td>\n",
       "      <td>5</td>\n",
       "      <td>야</td>\n",
       "      <td>수</td>\n",
       "      <td>1</td>\n",
       "      <td>0</td>\n",
       "      <td>차대차</td>\n",
       "      <td>진행중 추돌</td>\n",
       "      <td>안전운전 의무 불이행</td>\n",
       "      <td>단일로</td>\n",
       "      <td>...</td>\n",
       "      <td>0.5</td>\n",
       "      <td>1</td>\n",
       "      <td>19.2</td>\n",
       "      <td>13.0</td>\n",
       "      <td>27.5</td>\n",
       "      <td>0.0</td>\n",
       "      <td>4.2</td>\n",
       "      <td>1.4</td>\n",
       "      <td>24.0</td>\n",
       "      <td>69.4</td>\n",
       "    </tr>\n",
       "    <tr>\n",
       "      <th>1</th>\n",
       "      <td>1</td>\n",
       "      <td>3</td>\n",
       "      <td>주</td>\n",
       "      <td>금</td>\n",
       "      <td>1</td>\n",
       "      <td>0</td>\n",
       "      <td>차대차</td>\n",
       "      <td>주정차중 추돌</td>\n",
       "      <td>안전운전 의무 불이행</td>\n",
       "      <td>단일로</td>\n",
       "      <td>...</td>\n",
       "      <td>0.5</td>\n",
       "      <td>1</td>\n",
       "      <td>8.7</td>\n",
       "      <td>5.8</td>\n",
       "      <td>13.3</td>\n",
       "      <td>0.5</td>\n",
       "      <td>4.3</td>\n",
       "      <td>2.0</td>\n",
       "      <td>53.0</td>\n",
       "      <td>87.5</td>\n",
       "    </tr>\n",
       "    <tr>\n",
       "      <th>2</th>\n",
       "      <td>2</td>\n",
       "      <td>10</td>\n",
       "      <td>야</td>\n",
       "      <td>금</td>\n",
       "      <td>1</td>\n",
       "      <td>1</td>\n",
       "      <td>차대차</td>\n",
       "      <td>측면직각충돌</td>\n",
       "      <td>안전운전 의무 불이행</td>\n",
       "      <td>단일로</td>\n",
       "      <td>...</td>\n",
       "      <td>0.5</td>\n",
       "      <td>2</td>\n",
       "      <td>13.6</td>\n",
       "      <td>8.3</td>\n",
       "      <td>22.7</td>\n",
       "      <td>0.0</td>\n",
       "      <td>4.2</td>\n",
       "      <td>1.0</td>\n",
       "      <td>28.0</td>\n",
       "      <td>75.6</td>\n",
       "    </tr>\n",
       "    <tr>\n",
       "      <th>3</th>\n",
       "      <td>3</td>\n",
       "      <td>6</td>\n",
       "      <td>주</td>\n",
       "      <td>목</td>\n",
       "      <td>1</td>\n",
       "      <td>0</td>\n",
       "      <td>차대차</td>\n",
       "      <td>주정차중 추돌</td>\n",
       "      <td>안전운전 의무 불이행</td>\n",
       "      <td>단일로</td>\n",
       "      <td>...</td>\n",
       "      <td>0.5</td>\n",
       "      <td>1</td>\n",
       "      <td>23.7</td>\n",
       "      <td>17.0</td>\n",
       "      <td>29.4</td>\n",
       "      <td>0.0</td>\n",
       "      <td>2.1</td>\n",
       "      <td>0.9</td>\n",
       "      <td>40.0</td>\n",
       "      <td>59.5</td>\n",
       "    </tr>\n",
       "    <tr>\n",
       "      <th>4</th>\n",
       "      <td>4</td>\n",
       "      <td>6</td>\n",
       "      <td>야</td>\n",
       "      <td>월</td>\n",
       "      <td>1</td>\n",
       "      <td>0</td>\n",
       "      <td>차대차</td>\n",
       "      <td>진행중 추돌</td>\n",
       "      <td>안전운전 의무 불이행</td>\n",
       "      <td>불명</td>\n",
       "      <td>...</td>\n",
       "      <td>0.5</td>\n",
       "      <td>1</td>\n",
       "      <td>20.5</td>\n",
       "      <td>19.7</td>\n",
       "      <td>22.5</td>\n",
       "      <td>10.5</td>\n",
       "      <td>4.2</td>\n",
       "      <td>1.2</td>\n",
       "      <td>76.0</td>\n",
       "      <td>91.6</td>\n",
       "    </tr>\n",
       "  </tbody>\n",
       "</table>\n",
       "<p>5 rows × 25 columns</p>\n",
       "</div>"
      ],
      "text/plain": [
       "   Unnamed: 0   월 주야 요일  사망자수  중상자수 사고유형  사고유형_세부      가해자법규위반 도로형태  ...  \\\n",
       "0           0   5  야  수     1     0  차대차   진행중 추돌  안전운전 의무 불이행  단일로  ...   \n",
       "1           1   3  주  금     1     0  차대차  주정차중 추돌  안전운전 의무 불이행  단일로  ...   \n",
       "2           2  10  야  금     1     1  차대차   측면직각충돌  안전운전 의무 불이행  단일로  ...   \n",
       "3           3   6  주  목     1     0  차대차  주정차중 추돌  안전운전 의무 불이행  단일로  ...   \n",
       "4           4   6  야  월     1     0  차대차   진행중 추돌  안전운전 의무 불이행   불명  ...   \n",
       "\n",
       "  사망_중상자비율 부상자수 평균기온(°C) 최저기온(°C)  최고기온(°C)  일강수량(mm)  최대 풍속(m/s)  평균 풍속(m/s)  \\\n",
       "0      0.5    1     19.2     13.0      27.5       0.0         4.2         1.4   \n",
       "1      0.5    1      8.7      5.8      13.3       0.5         4.3         2.0   \n",
       "2      0.5    2     13.6      8.3      22.7       0.0         4.2         1.0   \n",
       "3      0.5    1     23.7     17.0      29.4       0.0         2.1         0.9   \n",
       "4      0.5    1     20.5     19.7      22.5      10.5         4.2         1.2   \n",
       "\n",
       "   최소 상대습도(%)  평균 상대습도(%)  \n",
       "0        24.0        69.4  \n",
       "1        53.0        87.5  \n",
       "2        28.0        75.6  \n",
       "3        40.0        59.5  \n",
       "4        76.0        91.6  \n",
       "\n",
       "[5 rows x 25 columns]"
      ]
     },
     "execution_count": 6,
     "metadata": {},
     "output_type": "execute_result"
    }
   ],
   "source": [
    "df = pd.read_csv('./교통사고_날씨.csv', encoding='CP949')\n",
    "df.head()"
   ]
  },
  {
   "cell_type": "code",
   "execution_count": null,
   "id": "c604914c",
   "metadata": {},
   "outputs": [],
   "source": []
  },
  {
   "cell_type": "code",
   "execution_count": 3,
   "id": "b64e0208",
   "metadata": {
    "scrolled": true
   },
   "outputs": [
    {
     "data": {
      "text/html": [
       "<div>\n",
       "<style scoped>\n",
       "    .dataframe tbody tr th:only-of-type {\n",
       "        vertical-align: middle;\n",
       "    }\n",
       "\n",
       "    .dataframe tbody tr th {\n",
       "        vertical-align: top;\n",
       "    }\n",
       "\n",
       "    .dataframe thead th {\n",
       "        text-align: right;\n",
       "    }\n",
       "</style>\n",
       "<table border=\"1\" class=\"dataframe\">\n",
       "  <thead>\n",
       "    <tr style=\"text-align: right;\">\n",
       "      <th></th>\n",
       "      <th>Unnamed: 0</th>\n",
       "      <th>월</th>\n",
       "      <th>사망자수</th>\n",
       "      <th>중상자수</th>\n",
       "      <th>총인수</th>\n",
       "      <th>사망_중상자비율</th>\n",
       "      <th>부상자수</th>\n",
       "      <th>평균기온(°C)</th>\n",
       "      <th>최저기온(°C)</th>\n",
       "      <th>최고기온(°C)</th>\n",
       "      <th>...</th>\n",
       "      <th>시군_날씨_청주시</th>\n",
       "      <th>시군_날씨_춘천시</th>\n",
       "      <th>시군_날씨_충주시</th>\n",
       "      <th>시군_날씨_태백시</th>\n",
       "      <th>시군_날씨_통영시</th>\n",
       "      <th>시군_날씨_평창군</th>\n",
       "      <th>시군_날씨_포항시</th>\n",
       "      <th>시군_날씨_합천군</th>\n",
       "      <th>시군_날씨_해남군</th>\n",
       "      <th>시군_날씨_홍천군</th>\n",
       "    </tr>\n",
       "  </thead>\n",
       "  <tbody>\n",
       "    <tr>\n",
       "      <th>0</th>\n",
       "      <td>0</td>\n",
       "      <td>5</td>\n",
       "      <td>1</td>\n",
       "      <td>0</td>\n",
       "      <td>2</td>\n",
       "      <td>0.5</td>\n",
       "      <td>1</td>\n",
       "      <td>19.2</td>\n",
       "      <td>13.0</td>\n",
       "      <td>27.5</td>\n",
       "      <td>...</td>\n",
       "      <td>0</td>\n",
       "      <td>0</td>\n",
       "      <td>0</td>\n",
       "      <td>0</td>\n",
       "      <td>0</td>\n",
       "      <td>0</td>\n",
       "      <td>0</td>\n",
       "      <td>0</td>\n",
       "      <td>0</td>\n",
       "      <td>0</td>\n",
       "    </tr>\n",
       "    <tr>\n",
       "      <th>1</th>\n",
       "      <td>1</td>\n",
       "      <td>3</td>\n",
       "      <td>1</td>\n",
       "      <td>0</td>\n",
       "      <td>2</td>\n",
       "      <td>0.5</td>\n",
       "      <td>1</td>\n",
       "      <td>8.7</td>\n",
       "      <td>5.8</td>\n",
       "      <td>13.3</td>\n",
       "      <td>...</td>\n",
       "      <td>0</td>\n",
       "      <td>0</td>\n",
       "      <td>0</td>\n",
       "      <td>0</td>\n",
       "      <td>0</td>\n",
       "      <td>0</td>\n",
       "      <td>0</td>\n",
       "      <td>0</td>\n",
       "      <td>0</td>\n",
       "      <td>0</td>\n",
       "    </tr>\n",
       "    <tr>\n",
       "      <th>2</th>\n",
       "      <td>2</td>\n",
       "      <td>10</td>\n",
       "      <td>1</td>\n",
       "      <td>1</td>\n",
       "      <td>4</td>\n",
       "      <td>0.5</td>\n",
       "      <td>2</td>\n",
       "      <td>13.6</td>\n",
       "      <td>8.3</td>\n",
       "      <td>22.7</td>\n",
       "      <td>...</td>\n",
       "      <td>0</td>\n",
       "      <td>0</td>\n",
       "      <td>0</td>\n",
       "      <td>0</td>\n",
       "      <td>0</td>\n",
       "      <td>0</td>\n",
       "      <td>0</td>\n",
       "      <td>0</td>\n",
       "      <td>0</td>\n",
       "      <td>0</td>\n",
       "    </tr>\n",
       "    <tr>\n",
       "      <th>3</th>\n",
       "      <td>3</td>\n",
       "      <td>6</td>\n",
       "      <td>1</td>\n",
       "      <td>0</td>\n",
       "      <td>2</td>\n",
       "      <td>0.5</td>\n",
       "      <td>1</td>\n",
       "      <td>23.7</td>\n",
       "      <td>17.0</td>\n",
       "      <td>29.4</td>\n",
       "      <td>...</td>\n",
       "      <td>0</td>\n",
       "      <td>0</td>\n",
       "      <td>0</td>\n",
       "      <td>0</td>\n",
       "      <td>0</td>\n",
       "      <td>0</td>\n",
       "      <td>0</td>\n",
       "      <td>0</td>\n",
       "      <td>0</td>\n",
       "      <td>0</td>\n",
       "    </tr>\n",
       "    <tr>\n",
       "      <th>4</th>\n",
       "      <td>4</td>\n",
       "      <td>6</td>\n",
       "      <td>1</td>\n",
       "      <td>0</td>\n",
       "      <td>2</td>\n",
       "      <td>0.5</td>\n",
       "      <td>1</td>\n",
       "      <td>20.5</td>\n",
       "      <td>19.7</td>\n",
       "      <td>22.5</td>\n",
       "      <td>...</td>\n",
       "      <td>0</td>\n",
       "      <td>0</td>\n",
       "      <td>0</td>\n",
       "      <td>0</td>\n",
       "      <td>0</td>\n",
       "      <td>0</td>\n",
       "      <td>0</td>\n",
       "      <td>0</td>\n",
       "      <td>0</td>\n",
       "      <td>0</td>\n",
       "    </tr>\n",
       "    <tr>\n",
       "      <th>...</th>\n",
       "      <td>...</td>\n",
       "      <td>...</td>\n",
       "      <td>...</td>\n",
       "      <td>...</td>\n",
       "      <td>...</td>\n",
       "      <td>...</td>\n",
       "      <td>...</td>\n",
       "      <td>...</td>\n",
       "      <td>...</td>\n",
       "      <td>...</td>\n",
       "      <td>...</td>\n",
       "      <td>...</td>\n",
       "      <td>...</td>\n",
       "      <td>...</td>\n",
       "      <td>...</td>\n",
       "      <td>...</td>\n",
       "      <td>...</td>\n",
       "      <td>...</td>\n",
       "      <td>...</td>\n",
       "      <td>...</td>\n",
       "      <td>...</td>\n",
       "    </tr>\n",
       "    <tr>\n",
       "      <th>39939</th>\n",
       "      <td>39939</td>\n",
       "      <td>12</td>\n",
       "      <td>1</td>\n",
       "      <td>0</td>\n",
       "      <td>1</td>\n",
       "      <td>1.0</td>\n",
       "      <td>0</td>\n",
       "      <td>-1.9</td>\n",
       "      <td>-4.4</td>\n",
       "      <td>1.7</td>\n",
       "      <td>...</td>\n",
       "      <td>0</td>\n",
       "      <td>0</td>\n",
       "      <td>0</td>\n",
       "      <td>0</td>\n",
       "      <td>0</td>\n",
       "      <td>0</td>\n",
       "      <td>0</td>\n",
       "      <td>0</td>\n",
       "      <td>0</td>\n",
       "      <td>0</td>\n",
       "    </tr>\n",
       "    <tr>\n",
       "      <th>39940</th>\n",
       "      <td>39940</td>\n",
       "      <td>12</td>\n",
       "      <td>1</td>\n",
       "      <td>0</td>\n",
       "      <td>1</td>\n",
       "      <td>1.0</td>\n",
       "      <td>0</td>\n",
       "      <td>-5.0</td>\n",
       "      <td>-9.7</td>\n",
       "      <td>-0.1</td>\n",
       "      <td>...</td>\n",
       "      <td>0</td>\n",
       "      <td>0</td>\n",
       "      <td>0</td>\n",
       "      <td>0</td>\n",
       "      <td>0</td>\n",
       "      <td>0</td>\n",
       "      <td>0</td>\n",
       "      <td>0</td>\n",
       "      <td>0</td>\n",
       "      <td>0</td>\n",
       "    </tr>\n",
       "    <tr>\n",
       "      <th>39941</th>\n",
       "      <td>39941</td>\n",
       "      <td>12</td>\n",
       "      <td>1</td>\n",
       "      <td>0</td>\n",
       "      <td>1</td>\n",
       "      <td>1.0</td>\n",
       "      <td>0</td>\n",
       "      <td>-1.5</td>\n",
       "      <td>-3.9</td>\n",
       "      <td>2.6</td>\n",
       "      <td>...</td>\n",
       "      <td>0</td>\n",
       "      <td>0</td>\n",
       "      <td>0</td>\n",
       "      <td>0</td>\n",
       "      <td>0</td>\n",
       "      <td>0</td>\n",
       "      <td>0</td>\n",
       "      <td>0</td>\n",
       "      <td>0</td>\n",
       "      <td>0</td>\n",
       "    </tr>\n",
       "    <tr>\n",
       "      <th>39942</th>\n",
       "      <td>39942</td>\n",
       "      <td>12</td>\n",
       "      <td>1</td>\n",
       "      <td>0</td>\n",
       "      <td>1</td>\n",
       "      <td>1.0</td>\n",
       "      <td>0</td>\n",
       "      <td>-5.8</td>\n",
       "      <td>-7.9</td>\n",
       "      <td>-3.0</td>\n",
       "      <td>...</td>\n",
       "      <td>0</td>\n",
       "      <td>0</td>\n",
       "      <td>0</td>\n",
       "      <td>0</td>\n",
       "      <td>0</td>\n",
       "      <td>0</td>\n",
       "      <td>0</td>\n",
       "      <td>0</td>\n",
       "      <td>0</td>\n",
       "      <td>0</td>\n",
       "    </tr>\n",
       "    <tr>\n",
       "      <th>39943</th>\n",
       "      <td>39943</td>\n",
       "      <td>12</td>\n",
       "      <td>1</td>\n",
       "      <td>0</td>\n",
       "      <td>1</td>\n",
       "      <td>1.0</td>\n",
       "      <td>0</td>\n",
       "      <td>-5.6</td>\n",
       "      <td>-8.8</td>\n",
       "      <td>-2.4</td>\n",
       "      <td>...</td>\n",
       "      <td>0</td>\n",
       "      <td>0</td>\n",
       "      <td>0</td>\n",
       "      <td>0</td>\n",
       "      <td>0</td>\n",
       "      <td>0</td>\n",
       "      <td>0</td>\n",
       "      <td>0</td>\n",
       "      <td>0</td>\n",
       "      <td>0</td>\n",
       "    </tr>\n",
       "  </tbody>\n",
       "</table>\n",
       "<p>39944 rows × 337 columns</p>\n",
       "</div>"
      ],
      "text/plain": [
       "       Unnamed: 0   월  사망자수  중상자수  총인수  사망_중상자비율  부상자수  평균기온(°C)  최저기온(°C)  \\\n",
       "0               0   5     1     0    2       0.5     1      19.2      13.0   \n",
       "1               1   3     1     0    2       0.5     1       8.7       5.8   \n",
       "2               2  10     1     1    4       0.5     2      13.6       8.3   \n",
       "3               3   6     1     0    2       0.5     1      23.7      17.0   \n",
       "4               4   6     1     0    2       0.5     1      20.5      19.7   \n",
       "...           ...  ..   ...   ...  ...       ...   ...       ...       ...   \n",
       "39939       39939  12     1     0    1       1.0     0      -1.9      -4.4   \n",
       "39940       39940  12     1     0    1       1.0     0      -5.0      -9.7   \n",
       "39941       39941  12     1     0    1       1.0     0      -1.5      -3.9   \n",
       "39942       39942  12     1     0    1       1.0     0      -5.8      -7.9   \n",
       "39943       39943  12     1     0    1       1.0     0      -5.6      -8.8   \n",
       "\n",
       "       최고기온(°C)  ...  시군_날씨_청주시  시군_날씨_춘천시  시군_날씨_충주시  시군_날씨_태백시  시군_날씨_통영시  \\\n",
       "0          27.5  ...          0          0          0          0          0   \n",
       "1          13.3  ...          0          0          0          0          0   \n",
       "2          22.7  ...          0          0          0          0          0   \n",
       "3          29.4  ...          0          0          0          0          0   \n",
       "4          22.5  ...          0          0          0          0          0   \n",
       "...         ...  ...        ...        ...        ...        ...        ...   \n",
       "39939       1.7  ...          0          0          0          0          0   \n",
       "39940      -0.1  ...          0          0          0          0          0   \n",
       "39941       2.6  ...          0          0          0          0          0   \n",
       "39942      -3.0  ...          0          0          0          0          0   \n",
       "39943      -2.4  ...          0          0          0          0          0   \n",
       "\n",
       "       시군_날씨_평창군  시군_날씨_포항시  시군_날씨_합천군  시군_날씨_해남군  시군_날씨_홍천군  \n",
       "0              0          0          0          0          0  \n",
       "1              0          0          0          0          0  \n",
       "2              0          0          0          0          0  \n",
       "3              0          0          0          0          0  \n",
       "4              0          0          0          0          0  \n",
       "...          ...        ...        ...        ...        ...  \n",
       "39939          0          0          0          0          0  \n",
       "39940          0          0          0          0          0  \n",
       "39941          0          0          0          0          0  \n",
       "39942          0          0          0          0          0  \n",
       "39943          0          0          0          0          0  \n",
       "\n",
       "[39944 rows x 337 columns]"
      ]
     },
     "execution_count": 3,
     "metadata": {},
     "output_type": "execute_result"
    }
   ],
   "source": [
    "df_gd = pd.get_dummies(df)\n",
    "df_gd"
   ]
  },
  {
   "cell_type": "code",
   "execution_count": 4,
   "id": "dac2d684",
   "metadata": {
    "scrolled": true
   },
   "outputs": [
    {
     "name": "stdout",
     "output_type": "stream",
     "text": [
      "<class 'pandas.core.frame.DataFrame'>\n",
      "RangeIndex: 39944 entries, 0 to 39943\n",
      "Columns: 337 entries, Unnamed: 0 to 시군_날씨_홍천군\n",
      "dtypes: float64(9), int64(6), uint8(322)\n",
      "memory usage: 16.8 MB\n"
     ]
    }
   ],
   "source": [
    "df_gd.info()"
   ]
  },
  {
   "cell_type": "code",
   "execution_count": null,
   "id": "a3ad2ca5",
   "metadata": {},
   "outputs": [],
   "source": []
  },
  {
   "cell_type": "code",
   "execution_count": 5,
   "id": "56234dc0",
   "metadata": {},
   "outputs": [],
   "source": [
    "from sklearn.linear_model import LogisticRegression\n",
    "from sklearn.tree import DecisionTreeRegressor\n",
    "from sklearn.ensemble import RandomForestRegressor\n",
    "from sklearn.neighbors import KNeighborsRegressor\n",
    "from sklearn.svm import SVC\n",
    "\n",
    "dt = DecisionTreeRegressor()\n",
    "log = LogisticRegression()\n",
    "rfc = RandomForestRegressor()\n",
    "knn = KNeighborsRegressor()\n",
    "svc = SVC()"
   ]
  },
  {
   "cell_type": "code",
   "execution_count": 6,
   "id": "b9f42a11",
   "metadata": {},
   "outputs": [],
   "source": [
    "from sklearn.linear_model import LinearRegression # 일반 회귀모델\n",
    "from sklearn.linear_model import Ridge, Lasso, ElasticNet # norm 규제 회귀모델\n",
    "from sklearn.linear_model import ARDRegression, BayesianRidge  # 베이지안 회귀\n",
    "from sklearn.ensemble import RandomForestRegressor  # decision tree 앙상블 모델\n",
    "from xgboost import XGBRegressor  # 앙상블 모델, 부스팅\n",
    "from sklearn.model_selection import cross_val_score # model 검증\n",
    "\n",
    "lr = LinearRegression()\n",
    "rd = Ridge()\n",
    "ls = Lasso()\n",
    "el = ElasticNet()\n",
    "al = ARDRegression()\n",
    "br = BayesianRidge()\n",
    "rf = RandomForestRegressor()\n",
    "xgb = XGBRegressor()"
   ]
  },
  {
   "cell_type": "code",
   "execution_count": 8,
   "id": "7da7f520",
   "metadata": {},
   "outputs": [],
   "source": [
    "X=pd.get_dummies(X)"
   ]
  },
  {
   "cell_type": "code",
   "execution_count": 7,
   "id": "10d245e5",
   "metadata": {},
   "outputs": [],
   "source": [
    "y=df['사망_중상자비율']\n",
    "X=df.drop(['사망_중상자비율','사망자수','중상자수','총인수','부상자수',\\\n",
    "           '최저기온(°C)', '최고기온(°C)','최대 풍속(m/s)', '최소 상대습도(%)',\\\n",
    "          '시군', '시군_날씨'],axis=1)"
   ]
  },
  {
   "cell_type": "code",
   "execution_count": 8,
   "id": "b93905e7",
   "metadata": {
    "scrolled": true
   },
   "outputs": [],
   "source": [
    "from sklearn.model_selection import train_test_split\n",
    "x_train, x_test, y_train, y_test = train_test_split(x, y, test_size=0.2, random_state=111)"
   ]
  },
  {
   "cell_type": "code",
   "execution_count": 9,
   "id": "db83b18c",
   "metadata": {},
   "outputs": [
    {
     "data": {
      "text/plain": [
       "16285    0.5\n",
       "5373     0.5\n",
       "2907     0.5\n",
       "8271     0.5\n",
       "24299    0.5\n",
       "        ... \n",
       "25257    0.5\n",
       "36950    1.0\n",
       "4820     0.5\n",
       "10196    0.5\n",
       "12116    0.5\n",
       "Name: 사망_중상자비율, Length: 31955, dtype: float64"
      ]
     },
     "execution_count": 9,
     "metadata": {},
     "output_type": "execute_result"
    }
   ],
   "source": [
    "y_train"
   ]
  },
  {
   "cell_type": "code",
   "execution_count": 10,
   "id": "24a57e6a",
   "metadata": {},
   "outputs": [],
   "source": [
    "from sklearn.metrics import mean_squared_error, mean_absolute_error\n",
    "\n",
    "# MAE, RMSE, RMSLE 반환\n",
    "def evaluate_regr(y,pred):\n",
    "    # MAE\n",
    "    mae = mean_absolute_error(y,pred)\n",
    "    \n",
    "    # RMSE\n",
    "    rmse = np.sqrt(mean_squared_error(y,pred))\n",
    "    \n",
    "    # RMSLE\n",
    "    log_y = np.log1p(y)\n",
    "    log_pred = np.log1p(pred)\n",
    "    msle = np.mean((log_y - log_pred) ** 2)\n",
    "    rmsle = np.sqrt(msle)    \n",
    "    \n",
    "    print(f'MAE: {mae:.3f}, RMSE: {rmse:.3f}, RMSLE: {rmsle:.3f}')"
   ]
  },
  {
   "cell_type": "code",
   "execution_count": 11,
   "id": "df06d92e",
   "metadata": {},
   "outputs": [],
   "source": [
    "# lr = LinearRegression()\n",
    "# rd = Ridge()\n",
    "# ls = Lasso()\n",
    "# el = ElasticNet()\n",
    "# al = ARDRegression()\n",
    "# br = BayesianRidge()\n",
    "# rf = RandomForestRegressor()\n",
    "# xgb = XGBRegressor()\n",
    "\n",
    "dt.fit(x_train, y_train)\n",
    "rfc.fit(x_train, y_train)\n",
    "knn.fit(x_train, y_train)\n",
    "lr.fit(x_train, y_train)\n",
    "rd.fit(x_train, y_train)\n",
    "ls.fit(x_train, y_train)\n",
    "el.fit(x_train, y_train)\n",
    "al.fit(x_train, y_train)\n",
    "br.fit(x_train, y_train)\n",
    "rf.fit(x_train, y_train)\n",
    "xgb.fit(x_train, y_train)\n",
    "\n",
    "pred_dt = dt.predict(x_test)\n",
    "pred_rfc = rfc.predict(x_test)\n",
    "pred_knn = knn.predict(x_test)\n",
    "pred_lr = lr.predict(x_test)\n",
    "pred_rd = rd.predict(x_test)\n",
    "pred_ls = ls.predict(x_test)\n",
    "pred_el = el.predict(x_test)\n",
    "pred_al = al.predict(x_test)\n",
    "pred_br = br.predict(x_test)\n",
    "pred_rf = rf.predict(x_test)\n",
    "pred_xgb = xgb.predict(x_test)"
   ]
  },
  {
   "cell_type": "code",
   "execution_count": 12,
   "id": "45d23cd4",
   "metadata": {
    "scrolled": true
   },
   "outputs": [
    {
     "name": "stdout",
     "output_type": "stream",
     "text": [
      "MAE: 0.000, RMSE: 0.006, RMSLE: 0.004\n"
     ]
    }
   ],
   "source": [
    "evaluate_regr(y_test, pred_dt)"
   ]
  },
  {
   "cell_type": "code",
   "execution_count": 13,
   "id": "1b850393",
   "metadata": {},
   "outputs": [
    {
     "name": "stdout",
     "output_type": "stream",
     "text": [
      "MAE: 0.000, RMSE: 0.005, RMSLE: 0.004\n"
     ]
    }
   ],
   "source": [
    "evaluate_regr(y_test, pred_rfc)"
   ]
  },
  {
   "cell_type": "code",
   "execution_count": 14,
   "id": "9b6601b1",
   "metadata": {
    "scrolled": true
   },
   "outputs": [
    {
     "name": "stdout",
     "output_type": "stream",
     "text": [
      "MAE: 0.082, RMSE: 0.151, RMSLE: 0.099\n"
     ]
    }
   ],
   "source": [
    "evaluate_regr(y_test, pred_knn)"
   ]
  },
  {
   "cell_type": "code",
   "execution_count": 15,
   "id": "70872c6a",
   "metadata": {},
   "outputs": [
    {
     "name": "stdout",
     "output_type": "stream",
     "text": [
      "MAE: 0.122, RMSE: 0.155, RMSLE: 0.101\n"
     ]
    },
    {
     "name": "stderr",
     "output_type": "stream",
     "text": [
      "C:\\Users\\YONSAI\\AppData\\Local\\Temp\\ipykernel_4944\\1586100254.py:13: RuntimeWarning: invalid value encountered in log1p\n",
      "  log_pred = np.log1p(pred)\n"
     ]
    }
   ],
   "source": [
    "evaluate_regr(y_test, pred_lr)"
   ]
  },
  {
   "cell_type": "code",
   "execution_count": 16,
   "id": "e7199cd5",
   "metadata": {},
   "outputs": [
    {
     "name": "stdout",
     "output_type": "stream",
     "text": [
      "MAE: 0.122, RMSE: 0.155, RMSLE: 0.101\n"
     ]
    },
    {
     "name": "stderr",
     "output_type": "stream",
     "text": [
      "C:\\Users\\YONSAI\\AppData\\Local\\Temp\\ipykernel_4944\\1586100254.py:13: RuntimeWarning: invalid value encountered in log1p\n",
      "  log_pred = np.log1p(pred)\n"
     ]
    }
   ],
   "source": [
    "evaluate_regr(y_test, pred_rd)"
   ]
  },
  {
   "cell_type": "code",
   "execution_count": 17,
   "id": "49011edb",
   "metadata": {},
   "outputs": [
    {
     "name": "stdout",
     "output_type": "stream",
     "text": [
      "MAE: 0.145, RMSE: 0.185, RMSLE: 0.118\n"
     ]
    }
   ],
   "source": [
    "evaluate_regr(y_test, pred_ls)"
   ]
  },
  {
   "cell_type": "code",
   "execution_count": 18,
   "id": "433e9e5f",
   "metadata": {},
   "outputs": [
    {
     "name": "stdout",
     "output_type": "stream",
     "text": [
      "MAE: 0.145, RMSE: 0.185, RMSLE: 0.118\n"
     ]
    }
   ],
   "source": [
    "evaluate_regr(y_test, pred_el)"
   ]
  },
  {
   "cell_type": "code",
   "execution_count": 19,
   "id": "bc717b46",
   "metadata": {},
   "outputs": [
    {
     "name": "stdout",
     "output_type": "stream",
     "text": [
      "MAE: 0.134, RMSE: 0.180, RMSLE: 0.126\n"
     ]
    },
    {
     "name": "stderr",
     "output_type": "stream",
     "text": [
      "C:\\Users\\YONSAI\\AppData\\Local\\Temp\\ipykernel_4944\\1586100254.py:13: RuntimeWarning: invalid value encountered in log1p\n",
      "  log_pred = np.log1p(pred)\n"
     ]
    }
   ],
   "source": [
    "evaluate_regr(y_test, pred_al)"
   ]
  },
  {
   "cell_type": "code",
   "execution_count": 20,
   "id": "a933981a",
   "metadata": {},
   "outputs": [
    {
     "name": "stdout",
     "output_type": "stream",
     "text": [
      "MAE: 0.123, RMSE: 0.155, RMSLE: 0.101\n"
     ]
    },
    {
     "name": "stderr",
     "output_type": "stream",
     "text": [
      "C:\\Users\\YONSAI\\AppData\\Local\\Temp\\ipykernel_4944\\1586100254.py:13: RuntimeWarning: invalid value encountered in log1p\n",
      "  log_pred = np.log1p(pred)\n"
     ]
    }
   ],
   "source": [
    "evaluate_regr(y_test, pred_br)"
   ]
  },
  {
   "cell_type": "code",
   "execution_count": 21,
   "id": "6575052c",
   "metadata": {},
   "outputs": [
    {
     "name": "stdout",
     "output_type": "stream",
     "text": [
      "MAE: 0.000, RMSE: 0.004, RMSLE: 0.003\n"
     ]
    }
   ],
   "source": [
    "evaluate_regr(y_test, pred_rf)"
   ]
  },
  {
   "cell_type": "code",
   "execution_count": 22,
   "id": "9df31269",
   "metadata": {},
   "outputs": [
    {
     "name": "stdout",
     "output_type": "stream",
     "text": [
      "MAE: 0.000, RMSE: 0.003, RMSLE: 0.003\n"
     ]
    }
   ],
   "source": [
    "evaluate_regr(y_test, pred_xgb)"
   ]
  },
  {
   "cell_type": "code",
   "execution_count": null,
   "id": "16263315",
   "metadata": {},
   "outputs": [],
   "source": []
  },
  {
   "cell_type": "code",
   "execution_count": 23,
   "id": "0ec709db",
   "metadata": {},
   "outputs": [],
   "source": [
    "from sklearn.preprocessing import PolynomialFeatures"
   ]
  },
  {
   "cell_type": "code",
   "execution_count": 27,
   "id": "b2c99775",
   "metadata": {},
   "outputs": [
    {
     "name": "stdout",
     "output_type": "stream",
     "text": [
      "(31955, 56952)\n"
     ]
    }
   ],
   "source": [
    "poly = PolynomialFeatures(include_bias = False)\n",
    "poly.fit(x_train)\n",
    "x_train_poly = poly.transform(x_train)\n",
    "print(x_train_poly.shape)"
   ]
  },
  {
   "cell_type": "code",
   "execution_count": 28,
   "id": "ef4a107c",
   "metadata": {},
   "outputs": [
    {
     "data": {
      "text/plain": [
       "array(['Unnamed: 0', '월', '사망자수', ..., '시군_날씨_해남군^2',\n",
       "       '시군_날씨_해남군 시군_날씨_홍천군', '시군_날씨_홍천군^2'], dtype=object)"
      ]
     },
     "execution_count": 28,
     "metadata": {},
     "output_type": "execute_result"
    }
   ],
   "source": [
    "poly.get_feature_names_out()"
   ]
  },
  {
   "cell_type": "code",
   "execution_count": 29,
   "id": "9625f5d8",
   "metadata": {},
   "outputs": [],
   "source": [
    "x_test_poly = poly.transform(x_test)"
   ]
  },
  {
   "cell_type": "code",
   "execution_count": null,
   "id": "b95a62e6",
   "metadata": {},
   "outputs": [],
   "source": []
  },
  {
   "cell_type": "code",
   "execution_count": 31,
   "id": "9c466522",
   "metadata": {},
   "outputs": [],
   "source": [
    "from sklearn.preprocessing import StandardScaler"
   ]
  },
  {
   "cell_type": "code",
   "execution_count": null,
   "id": "063a93b1",
   "metadata": {},
   "outputs": [],
   "source": []
  },
  {
   "cell_type": "code",
   "execution_count": 37,
   "id": "32cfc31a",
   "metadata": {},
   "outputs": [
    {
     "name": "stdout",
     "output_type": "stream",
     "text": [
      "Ridge(alpha=100)\n"
     ]
    }
   ],
   "source": [
    "print(rd.fit(x_train, y_train))"
   ]
  },
  {
   "cell_type": "code",
   "execution_count": 47,
   "id": "ab7de0c4",
   "metadata": {},
   "outputs": [
    {
     "ename": "TypeError",
     "evalue": "__init__() got an unexpected keyword argument 'alpha'",
     "output_type": "error",
     "traceback": [
      "\u001b[1;31m---------------------------------------------------------------------------\u001b[0m",
      "\u001b[1;31mTypeError\u001b[0m                                 Traceback (most recent call last)",
      "Input \u001b[1;32mIn [47]\u001b[0m, in \u001b[0;36m<cell line: 5>\u001b[1;34m()\u001b[0m\n\u001b[0;32m      4\u001b[0m alpha_list \u001b[38;5;241m=\u001b[39m [\u001b[38;5;241m0.001\u001b[39m, \u001b[38;5;241m0.01\u001b[39m, \u001b[38;5;241m0.1\u001b[39m, \u001b[38;5;241m1\u001b[39m, \u001b[38;5;241m10\u001b[39m, \u001b[38;5;241m100\u001b[39m]\n\u001b[0;32m      5\u001b[0m \u001b[38;5;28;01mfor\u001b[39;00m alpha \u001b[38;5;129;01min\u001b[39;00m alpha_list:\n\u001b[0;32m      6\u001b[0m     \u001b[38;5;66;03m#모델만들기\u001b[39;00m\n\u001b[1;32m----> 7\u001b[0m     dt \u001b[38;5;241m=\u001b[39m \u001b[43mDecisionTreeRegressor\u001b[49m\u001b[43m(\u001b[49m\u001b[43malpha\u001b[49m\u001b[38;5;241;43m=\u001b[39;49m\u001b[43malpha\u001b[49m\u001b[43m)\u001b[49m\n\u001b[0;32m      8\u001b[0m     \u001b[38;5;66;03m#모델 훈련\u001b[39;00m\n\u001b[0;32m      9\u001b[0m     dt\u001b[38;5;241m.\u001b[39mfit(x_train, y_train)\n",
      "\u001b[1;31mTypeError\u001b[0m: __init__() got an unexpected keyword argument 'alpha'"
     ]
    }
   ],
   "source": [
    "train_score = []\n",
    "test_score = []\n",
    "\n",
    "alpha_list = [0.001, 0.01, 0.1, 1, 10, 100]\n",
    "for alpha in alpha_list:\n",
    "    #모델만들기\n",
    "    dt = DecisionTreeRegressor(alpha=alpha)\n",
    "    #모델 훈련\n",
    "    dt.fit(x_train, y_train)\n",
    "    # 훈련점수/테스트점수 저장\n",
    "    train_score.append(dt.score(x_train, y_train))\n",
    "    test_score.append(dt.score(x_test, y_test))\n"
   ]
  },
  {
   "cell_type": "code",
   "execution_count": 46,
   "id": "eb29f35d",
   "metadata": {},
   "outputs": [
    {
     "data": {
      "image/png": "[encoded data removed]",
      "text/plain": [
       "<Figure size 432x288 with 1 Axes>"
      ]
     },
     "metadata": {
      "needs_background": "light"
     },
     "output_type": "display_data"
    }
   ],
   "source": [
    "plt.plot(np.log10(alpha_list), train_score)\n",
    "plt.plot(np.log10(alpha_list), test_score)\n",
    "plt.xlabel('alpha')\n",
    "plt.ylabel('y')\n",
    "plt.show()"
   ]
  },
  {
   "cell_type": "code",
   "execution_count": null,
   "id": "6dafbbef",
   "metadata": {},
   "outputs": [],
   "source": []
  }
 ],
 "metadata": {
  "kernelspec": {
   "display_name": "Python 3 (ipykernel)",
   "language": "python",
   "name": "python3"
  },
  "language_info": {
   "codemirror_mode": {
    "name": "ipython",
    "version": 3
   },
   "file_extension": ".py",
   "mimetype": "text/x-python",
   "name": "python",
   "nbconvert_exporter": "python",
   "pygments_lexer": "ipython3",
   "version": "3.9.12"
  }
 },
 "nbformat": 4,
 "nbformat_minor": 5
}
